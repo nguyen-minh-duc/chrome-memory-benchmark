{
 "cells": [
  {
   "cell_type": "code",
   "execution_count": 39,
   "metadata": {
    "collapsed": true
   },
   "outputs": [],
   "source": [
    "import json\n",
    "import numpy as np\n",
    "import pandas as pd\n",
    "import os\n",
    "import matplotlib.pyplot as plt\n",
    "from sklearn.cluster import KMeans\n",
    "%matplotlib inline\n",
    "import math\n",
    "import random as rand\n",
    "\n",
    "\n",
    "def l2_pairwise_distance(v1, v2):\n",
    "    nrow = len(v1)\n",
    "    ncol = len(v2)\n",
    "    dist_mat = [[0 for x in range(ncol)] for y in range(nrow)] \n",
    "    for i in range(nrow):\n",
    "        for j in range(ncol):\n",
    "            dist_mat[i][j] = math.sqrt((v1[i] - v2[j])**2)\n",
    "    return dist_mat\n",
    "\n",
    "def calculate_error(k_mean_matrix):\n",
    "    return sum([min(dist) for dist in k_mean_matrix])\n",
    "\n",
    "\n",
    "def k_mean(X_, n_center=3, n_iter=100):\n",
    "    results = []\n",
    "\n",
    "    for k in range(5):\n",
    "        error_value = 0\n",
    "        rand.seed(None)\n",
    "        centers = sorted([rand.uniform(0.0, 100.0) for i in range(n_center)])\n",
    "        min_dist_idx = [0]*len(X_)\n",
    "        i = 0\n",
    "        while i < n_iter:\n",
    "            failed = False\n",
    "            dist_mat = l2_pairwise_distance(X_, centers)\n",
    "            error_value = calculate_error(dist_mat)\n",
    "            min_dist_idx = [dist.index(min(dist)) for dist in dist_mat]\n",
    "            old_center = centers\n",
    "            centers = [0]*n_center\n",
    "            count = [0]*n_center\n",
    "            for j in range(len(X_)):\n",
    "                centers[min_dist_idx[j]] += X_[j]\n",
    "                count[min_dist_idx[j]] += 1\n",
    "\n",
    "            for j in range(n_center):\n",
    "                if count[j] == 0:\n",
    "                    centers = sorted([rand.uniform(0.0, 100.0) for i in range(n_center)])\n",
    "                    failed = True\n",
    "                    break;\n",
    "\n",
    "            if failed == True:\n",
    "                i = 0\n",
    "                continue;\n",
    "\n",
    "            for j in range(n_center):\n",
    "                centers[j] = centers[j] / (count[j])\n",
    "            i += 1\n",
    "        results.append((centers, min_dist_idx, error_value))\n",
    "    print results\n",
    "    \n",
    "    return min(results, key=lambda x: x[2])"
   ]
  },
  {
   "cell_type": "code",
   "execution_count": 3,
   "metadata": {
    "collapsed": true
   },
   "outputs": [],
   "source": [
    "RANKING_FILE = \"./CSSPropertiesRanking.json\"\n",
    "RareNonInherit_FILE = \"./CSSRareNonInheritedProperties.json\"\n",
    "RareInherit_FILE = \"./CSSRareInheritedProperties.json\"\n",
    "ranking = {}\n",
    "with open(RANKING_FILE, \"r\") as fo:\n",
    "    ranking = json.load(fo)\n",
    "RareNonInherit = []\n",
    "with open(RareNonInherit_FILE, \"r\") as fo:\n",
    "    RareNonInherit = json.load(fo)\n",
    "RareInherit = []\n",
    "with open(RareInherit_FILE, \"r\") as fo:\n",
    "    RareInherit = json.load(fo)"
   ]
  },
  {
   "cell_type": "code",
   "execution_count": 27,
   "metadata": {},
   "outputs": [
    {
     "name": "stdout",
     "output_type": "stream",
     "text": [
      "[42.436061, 41.777993, 31.392838, 26.97879, 12.555355, 10.367758, 10.040729, 10.00433, 9.807688, 8.624961, 7.946455, 3.891355, 2.522299, 1.573846, 0.758564, 0.112396, 0.073329, 0.053684, 0.026315, 0.002809, 0.000804, 1e-06]\n",
      "[[-5.45387586  2.17814601]]\n",
      "[1 1 1 1 1 1 1 1 1 1 1 1 1 1 1 0 0 0 0 0 0 0]\n"
     ]
    }
   ],
   "source": [
    "sorted_properties_name = sorted(ranking.keys(), key=lambda x: -float(ranking[x]))\n",
    "\n",
    "sorted_properties_name = dict(zip(sorted_properties_name, np.arange(len(ranking)) / float(len(ranking))))\n",
    "\n",
    "# best is: sorted(RareNonInherit, key=lambda x: -float(ranking[x]))\n",
    "css_properties_name = sorted(RareInherit, key=lambda x: -float(ranking[x]))# sorted(ranking.keys(), key=lambda x: -float(ranking[x]))\n",
    "css_properties_score = sorted([float(ranking[x]) for x in css_properties_name], key=lambda x: -x)\n",
    "css_properties = zip(css_properties_name, css_properties_score)\n",
    "print css_properties_score\n",
    "kmeans = KMeans(n_clusters=2, random_state=0).fit(np.log(np.array(css_properties_score)).reshape(-1,1))\n",
    "\n",
    "css_properties = zip(css_properties_name, css_properties_score, kmeans.labels_)\n",
    "css_properties = sorted(css_properties, key=lambda x: -x[1])\n",
    "print kmeans.cluster_centers_.reshape(1,-1)\n",
    "print kmeans.labels_\n"
   ]
  },
  {
   "cell_type": "code",
   "execution_count": 41,
   "metadata": {
    "scrolled": true
   },
   "outputs": [
    {
     "name": "stdout",
     "output_type": "stream",
     "text": [
      "[([-5.4538758649328418, 2.1781460078616202], [1, 1, 1, 1, 1, 1, 1, 1, 1, 1, 1, 1, 1, 1, 1, 0, 0, 0, 0, 0, 0, 0], 33.67017651936835), ([-5.4538758649328418, 2.1781460078616202], [1, 1, 1, 1, 1, 1, 1, 1, 1, 1, 1, 1, 1, 1, 1, 0, 0, 0, 0, 0, 0, 0], 33.67017651936835), ([-5.4538758649328418, 2.1781460078616202], [1, 1, 1, 1, 1, 1, 1, 1, 1, 1, 1, 1, 1, 1, 1, 0, 0, 0, 0, 0, 0, 0], 33.67017651936835), ([-5.4538758649328418, 2.1781460078616202], [1, 1, 1, 1, 1, 1, 1, 1, 1, 1, 1, 1, 1, 1, 1, 0, 0, 0, 0, 0, 0, 0], 33.67017651936835), ([-5.4538758649328418, 2.1781460078616202], [1, 1, 1, 1, 1, 1, 1, 1, 1, 1, 1, 1, 1, 1, 1, 0, 0, 0, 0, 0, 0, 0], 33.67017651936835)]\n"
     ]
    },
    {
     "data": {
      "text/plain": [
       "([-5.4538758649328418, 2.1781460078616202],\n",
       " [1, 1, 1, 1, 1, 1, 1, 1, 1, 1, 1, 1, 1, 1, 1, 0, 0, 0, 0, 0, 0, 0],\n",
       " 33.67017651936835)"
      ]
     },
     "execution_count": 41,
     "metadata": {},
     "output_type": "execute_result"
    }
   ],
   "source": [
    "k_mean(np.log(css_properties_score), n_center=2, n_iter=100)"
   ]
  },
  {
   "cell_type": "code",
   "execution_count": 42,
   "metadata": {},
   "outputs": [
    {
     "name": "stdout",
     "output_type": "stream",
     "text": [
      "0.488245931284\n",
      "0.902350813743\n"
     ]
    }
   ],
   "source": [
    "# def bump_dectection(list_with_score, number_of_bump):#, conv_mask=[1 -1]):\n",
    "#     bump_point = [((list_with_score[i][1] - list_with_score[i+10][1]), i) for i in np.arange(len(list_with_score)-10)]\n",
    "#     bump_point = sorted(bump_point, key=lambda x: -x[0])\n",
    "# #     print bump_point\n",
    "#     return [list_with_score[bump_point[i][1]] for i in np.arange(min(number_of_bump, len(bump_point)))]\n",
    "\n",
    "# # bump_dectection(css_properties, 3)\n",
    "# plt.hist(css_properties_score, bins=10);\n",
    "# plt.show()\n",
    "cnt = 0\n",
    "for i in np.arange(len(css_properties) - 1):\n",
    "    cnt += 1\n",
    "    if (css_properties[i][2] != css_properties[i+1][2]):\n",
    "        print sorted_properties_name[css_properties[i][0]]\n",
    "print sorted_properties_name[css_properties[-1][0]]"
   ]
  },
  {
   "cell_type": "code",
   "execution_count": 5,
   "metadata": {},
   "outputs": [
    {
     "name": "stdout",
     "output_type": "stream",
     "text": [
      "[[  0.819582  ]\n",
      " [ 35.6464205 ]\n",
      " [  9.90675371]]\n",
      "[2 2 0 2 0 1 1 0 0 1 2 0 0 0 2 0 0 0 1 2 2 0]\n",
      "0.191681735986\n",
      "0.332730560579\n",
      "0.902350813743\n"
     ]
    }
   ],
   "source": [
    "css_properties_name = RareInherit\n",
    "css_properties_score = [float(ranking[x]) for x in RareInherit]\n",
    "# css_properties = zip(css_properties_name, css_properties_score)\n",
    "\n",
    "kmeans = KMeans(n_clusters=3, random_state=0).fit(np.array(css_properties_score).reshape(-1,1))\n",
    "\n",
    "css_properties = zip(css_properties_name, css_properties_score, kmeans.labels_)\n",
    "css_properties = sorted(css_properties, key=lambda x: -x[1])\n",
    "print kmeans.cluster_centers_\n",
    "print kmeans.labels_\n",
    "\n",
    "# def bump_dectection(list_with_score, number_of_bump):#, conv_mask=[1 -1]):\n",
    "#     bump_point = [((list_with_score[i][1] - list_with_score[i+10][1]), i) for i in np.arange(len(list_with_score)-10)]\n",
    "#     bump_point = sorted(bump_point, key=lambda x: -x[0])\n",
    "# #     print bump_point\n",
    "#     return [list_with_score[bump_point[i][1]] for i in np.arange(min(number_of_bump, len(bump_point)))]\n",
    "\n",
    "# # bump_dectection(css_properties, 3)\n",
    "# plt.hist(css_properties_score, bins=10);\n",
    "# plt.show()\n",
    "cnt = 0\n",
    "for i in np.arange(len(css_properties) - 1):\n",
    "    cnt += 1\n",
    "    if (css_properties[i][2] != css_properties[i+1][2]):\n",
    "        print sorted_properties_name[css_properties[i][0]]\n",
    "print sorted_properties_name[css_properties[-1][0]]"
   ]
  },
  {
   "cell_type": "code",
   "execution_count": 50,
   "metadata": {},
   "outputs": [
    {
     "name": "stdout",
     "output_type": "stream",
     "text": [
      "[[  3.26019559]\n",
      " [ 51.25934548]]\n",
      "[0 0 0 0 0 0 0 0 0 0 0 0 0 0 0 0 0 0 0 0 0 0 0 0 0 0 0 0 1 0 0 0 0 0 0 0 0\n",
      " 1 0 0 0 0 0 0 0 1 0 0 0 0 0 0 0 0 0 0 0 0 1 0 0 0 0 0 0 0 0 0 0 0 0 0 1 1\n",
      " 0 1 0 0 0 0 0 0 0 0 0 0 0 1 0 1 0 0 0 0 0 0 0 0 0 0 0 0 0 0 1 0 0 1 0 0 0\n",
      " 0 1 0 1 0 0 1 0 0 0 0 0 0 0 0 0 0 0 0 0 0 1 1 0 0 0 0 0 0 0 0 1 0 0 1 1 0\n",
      " 0 0 0 0 0 0 0 1 0 1 0 0 0 0 1 0 0 0 0 1 0 0 1 0 0 0 1 0 0 0 0 1 1 0 0 0 0\n",
      " 0 0 0 0 0 0 1 0 0 0 0 0 0 1 0 0 1 1 0 0 0 0 0 1 0 0 0 0 0 0 0 0 1 0 0 0 0\n",
      " 0 1 0 0 1 0 0 0 0 0 0 0 0 1 0 0 1 1 0 0 0 1 0 1 1 0 0 1 0 0 1 0 0 1 0 0 0\n",
      " 0 0 0 0 0 0 0 1 1 0 0 0 0 1 0 0 0 0 0 0 0 0 1 0 0 0 0 0 1 0 0 1 0 0 0 1 1\n",
      " 0 1 0 0 0 0 0 0 0 0 0 0 0 0 0 1 1 0 0 0 0 0 0 0 0 0 0 0 0 0 0 1 0 0 0 0 0\n",
      " 0 0 0 0 0 0 0 0 0 1 0 0 0 0 0 0 0 0 1 0 1 0 0 0 0 0 0 1 0 0 0 1 0 0 0 0 0\n",
      " 1 0 1 0 0 0 0 0 0 0 0 0 0 0 0 0 1 0 0 1 0 0 0 0 0 1 0 0 1 0 0 0 0 0 0 1 1\n",
      " 0 0 0 0 0 0 0 0 0 0 0 0 0 1 0 1 0 0 0 0 0 1 1 0 0 1 0 0 0 0 1 0 0 0 1 0 1\n",
      " 0 0 0 0 0 1 0 0 0 0 1 0 0 1 0 0 0 0 1 1 0 0 1 0 0 0 0 1 0 0 0 1 0 0 1 0 0\n",
      " 0 1 0 1 0 0 1 0 0 0 0 0 1 0 0 1 1 0 1 0 0 0 1 1 0 0 1 0 1 0 0 0 1 0 0 0 0\n",
      " 0 0 1 0 1 0 0 0 1 0 0 1 1 1 0 0 0 0 1 0 0 0 0 0 0 0 0 0 0 0 0 0 0 1 0]\n",
      "[(u'display', 1), (u'margin', 1), (u'width', 1), (u'height', 1), (u'overflow', 1), (u'background-color', 1), (u'color', 1), (u'padding', 1), (u'font-size', 1), (u'position', 1), (u'text-align', 1), (u'opacity', 1), (u'font-family', 1), (u'font-weight', 1), (u'box-sizing', 1), (u'max-width', 1), (u'max-height', 1), (u'webkit-user-select', 1), (u'border', 1), (u'top', 1), (u'margin-top', 1), (u'cursor', 1), (u'left', 1), (u'background', 1), (u'margin-left', 1), (u'padding-left', 1), (u'text-decoration', 1), (u'white-space', 1), (u'line-height', 1), (u'padding-top', 1), (u'vertical-align', 1), (u'background-image', 1), (u'z-index', 1), (u'float', 1), (u'margin-bottom', 1), (u'margin-right', 1), (u'border-bottom', 1), (u'padding-bottom', 1), (u'right', 1), (u'border-radius', 1), (u'padding-right', 1), (u'visibility', 1), (u'bottom', 1), (u'align-items', 1), (u'background-repeat', 1), (u'border-top', 1), (u'min-height', 1), (u'outline', 1), (u'background-position', 1), (u'content', 1), (u'box-shadow', 1), (u'border-color', 1), (u'clear', 1), (u'min-width', 1), (u'justify-content', 1), (u'font', 1), (u'border-left', 1), (u'font-style', 1), (u'border-right', 1), (u'background-size', 1), (u'list-style', 1), (u'text-overflow', 1), (u'transition', 1), (u'border-width', 1), (u'border-style', 1), (u'transform', 1), (u'overflow-y', 1), (u'border-collapse', 1), (u'text-transform', 1), (u'text-shadow', 1), (u'zoom', 1), (u'alias-webkit-box-shadow', 1), (u'alias-webkit-box-sizing', 1), (u'text-indent', 1), (u'flex-direction', 1), (u'alias-webkit-transform', 1), (u'alias-webkit-border-radius', 1), (u'webkit-appearance', 1), (u'word-wrap', 1), (u'alias-webkit-transition', 1), (u'border-bottom-left-radius', 1), (u'overflow-x', 1), (u'list-style-type', 1), (u'border-top-left-radius', 1), (u'border-spacing', 1), (u'pointer-events', 1), (u'border-bottom-right-radius', 1), (u'border-top-color', 1), (u'border-top-right-radius', 1), (u'alias-webkit-animation', 1), (u'border-bottom-color', 1), (u'animation', 1), (u'letter-spacing', 1), (u'border-right-width', 1), (u'fill', 1), (u'webkit-font-smoothing', 1), (u'clip', 1), (u'src', 1), (u'alias-webkit-text-size-adjust', 1), (u'border-bottom-width', 1), (u'user-select', 1), (u'direction', 1), (u'border-top-width', 1), (u'border-right-color', 1), (u'border-left-width', 1), (u'border-left-color', 1), (u'word-break', 0), (u'table-layout', 0), (u'background-clip', 0), (u'filter', 0), (u'transform-origin', 0), (u'flex', 0), (u'resize', 0), (u'alias-webkit-background-size', 0), (u'transition-property', 0), (u'alias-webkit-transform-origin', 0), (u'webkit-box-orient', 0), (u'alias-webkit-backface-visibility', 0), (u'alias-webkit-align-items', 0), (u'text-rendering', 0), (u'alias-webkit-justify-content', 0), (u'font-variant', 0), (u'transition-duration', 0), (u'outline-offset', 0), (u'transition-timing-function', 0), (u'transition-delay', 0), (u'unicode-range', 0), (u'alias-webkit-animation-timing-function', 0), (u'alias-webkit-transition-property', 0), (u'alias-webkit-flex', 0), (u'alias-webkit-animation-duration', 0), (u'flex-grow', 0), (u'alias-webkit-animation-name', 0), (u'order', 0), (u'backface-visibility', 0), (u'word-spacing', 0), (u'alias-webkit-border-top-right-radius', 0), (u'animation-duration', 0), (u'alias-webkit-border-top-left-radius', 0), (u'animation-name', 0), (u'touch-action', 0), (u'webkit-line-clamp', 0), (u'alias-webkit-transition-duration', 0), (u'webkit-box-align', 0), (u'stroke', 0), (u'border-bottom-style', 0), (u'flex-wrap', 0), (u'webkit-background-clip', 0), (u'alias-webkit-transition-timing-function', 0), (u'alias-webkit-border-bottom-left-radius', 0), (u'alias-webkit-border-bottom-right-radius', 0), (u'outline-width', 0), (u'quotes', 0), (u'alias-webkit-animation-fill-mode', 0), (u'animation-timing-function', 0), (u'animation-fill-mode', 0), (u'alias-webkit-animation-delay', 0), (u'webkit-box-pack', 0), (u'animation-delay', 0), (u'alias-webkit-flex-direction', 0), (u'page-break-inside', 0), (u'flex-shrink', 0), (u'alias-webkit-perspective', 0), (u'webkit-box-flex', 0), (u'border-top-style', 0), (u'unicode-bidi', 0), (u'page-break-after', 0), (u'list-style-position', 0), (u'speak', 0), (u'will-change', 0), (u'alias-webkit-order', 0), (u'orphans', 0), (u'widows', 0), (u'alias-webkit-flex-wrap', 0), (u'list-style-image', 0), (u'background-origin', 0), (u'align-self', 0), (u'outline-style', 0), (u'border-left-style', 0), (u'alias-webkit-animation-iteration-count', 0), (u'image-rendering', 0), (u'perspective', 0), (u'border-right-style', 0), (u'alias-webkit-transition-delay', 0), (u'overflow-wrap', 0), (u'webkit-animation-direction', 0), (u'fill-opacity', 0), (u'animation-iteration-count', 0), (u'outline-color', 0), (u'align-content', 0), (u'background-attachment', 0), (u'stroke-width', 0), (u'webkit-box-direction', 0), (u'webkit-mask-image', 0), (u'alias-webkit-animation-play-state', 0), (u'transform-style', 0), (u'alias-webkit-flex-grow', 0), (u'flex-basis', 0), (u'webkit-margin-start', 0), (u'alias-webkit-transform-style', 0), (u'counter-increment', 0), (u'perspective-origin', 0), (u'alias-webkit-flex-shrink', 0), (u'counter-reset', 0), (u'alias-webkit-perspective-origin', 0), (u'alias-webkit-opacity', 0), (u'alias-webkit-align-self', 0), (u'webkit-box-ordinal-group', 0), (u'alias-webkit-flex-flow', 0), (u'flex-flow', 0), (u'background-position-x', 0), (u'background-position-y', 0), (u'alias-webkit-align-content', 0), (u'border-image', 0), (u'webkit-user-drag', 0), (u'font-stretch', 0), (u'object-fit', 0), (u'text-size-adjust', 0), (u'animation-direction', 0), (u'webkit-font-feature-settings', 0), (u'alias-webkit-flex-basis', 0), (u'animation-play-state', 0), (u'column-count', 0), (u'contain', 0), (u'webkit-margin-after', 0), (u'alias-webkit-column-count', 0), (u'webkit-mask-size', 0), (u'webkit-margin-end', 0), (u'empty-cells', 0), (u'webkit-padding-end', 0), (u'webkit-mask-repeat', 0), (u'webkit-mask-position', 0), (u'webkit-text-fill-color', 0), (u'line-break', 0), (u'column-gap', 0), (u'alias-webkit-column-gap', 0), (u'stroke-opacity', 0), (u'stroke-dasharray', 0), (u'hyphens', 0), (u'font-feature-settings', 0), (u'stroke-linecap', 0), (u'fill-rule', 0), (u'stroke-dashoffset', 0), (u'columns', 0), (u'webkit-user-modify', 0), (u'tab-size', 0), (u'stroke-miterlimit', 0), (u'stroke-linejoin', 0), (u'page-break-before', 0), (u'webkit-padding-start', 0), (u'webkit-column-break-inside', 0), (u'webkit-margin-before', 0), (u'border-image-slice', 0), (u'webkit-border-image', 0), (u'alias-webkit-columns', 0), (u'webkit-box-lines', 0), (u'clip-path', 0), (u'break-inside', 0), (u'webkit-margin-top-collapse', 0), (u'caption-side', 0), (u'size', 0), (u'column-width', 0), (u'webkit-text-stroke-width', 0), (u'font-kerning', 0), (u'stop-color', 0), (u'text-decoration-color', 0), (u'alias-webkit-column-width', 0), (u'border-image-width', 0), (u'border-image-repeat', 0), (u'border-image-outset', 0), (u'text-align-last', 0), (u'webkit-text-stroke', 0), (u'clip-rule', 0), (u'webkit-text-stroke-color', 0), (u'shape-rendering', 0), (u'writing-mode', 0), (u'webkit-print-color-adjust', 0), (u'border-image-source', 0), (u'font-variant-ligatures', 0), (u'webkit-clip-path', 0), (u'mix-blend-mode', 0), (u'column-rule', 0), (u'text-anchor', 0), (u'webkit-column-break-before', 0), (u'column-fill', 0), (u'webkit-line-break', 0), (u'overflow-anchor', 0), (u'stop-opacity', 0), (u'column-rule-color', 0), (u'alias-webkit-column-rule', 0), (u'webkit-perspective-origin-x', 0), (u'webkit-perspective-origin-y', 0), (u'webkit-writing-mode', 0), (u'webkit-text-security', 0), (u'object-position', 0), (u'webkit-mask-box-image', 0), (u'dominant-baseline', 0), (u'text-decoration-style', 0), (u'webkit-mask', 0), (u'background-blend-mode', 0), (u'text-decoration-line', 0), (u'font-variant-caps', 0), (u'column-rule-style', 0), (u'webkit-background-origin', 0), (u'all', 0), (u'alias-webkit-column-rule-color', 0), (u'webkit-padding-before', 0), (u'mask', 0), (u'shape-outside', 0), (u'webkit-column-break-after', 0), (u'webkit-padding-after', 0), (u'webkit-text-emphasis-color', 0), (u'break-after', 0), (u'alignment-baseline', 0), (u'isolation', 0), (u'font-variant-numeric', 0), (u'page', 0), (u'break-before', 0), (u'webkit-border-horizontal-spacing', 0), (u'baseline-shift', 0), (u'webkit-box-reflect', 0), (u'justify-self', 0), (u'webkit-margin-collapse', 0), (u'webkit-highlight', 0), (u'column-rule-width', 0), (u'webkit-transform-origin-y', 0), (u'webkit-transform-origin-x', 0), (u'column-span', 0), (u'background-repeat-y', 0), (u'webkit-text-emphasis', 0), (u'webkit-text-orientation', 0), (u'alias-webkit-column-rule-style', 0), (u'background-repeat-x', 0), (u'rx', 0), (u'text-orientation', 0), (u'webkit-rtl-ordering', 0), (u'ry', 0), (u'alias-webkit-column-rule-width', 0), (u'webkit-border-vertical-spacing', 0), (u'alias-webkit-column-span', 0), (u'text-decoration-skip', 0), (u'x', 0), (u'r', 0), (u'y', 0), (u'grid-template-columns', 0), (u'webkit-border-start-width', 0), (u'mask-type', 0), (u'webkit-border-start-color', 0), (u'caret-color', 0), (u'webkit-border-after-width', 0), (u'webkit-border-end-width', 0), (u'webkit-border-before-width', 0), (u'vector-effect', 0), (u'webkit-border-end-color', 0), (u'webkit-border-before-color', 0), (u'webkit-border-after-color', 0), (u'webkit-text-combine', 0), (u'justify-items', 0), (u'color-rendering', 0), (u'webkit-mask-clip', 0), (u'color-interpolation-filters', 0), (u'webkit-border-end', 0), (u'webkit-box-flex-group', 0), (u'webkit-text-decorations-in-effect', 0), (u'cy', 0), (u'flood-color', 0), (u'grid-template-rows', 0), (u'color-interpolation', 0), (u'webkit-hyphenate-character', 0), (u'cx', 0), (u'flood-opacity', 0), (u'shape-margin', 0), (u'grid-gap', 0), (u'paint-order', 0), (u'text-underline-position', 0), (u'marker-end', 0), (u'grid-auto-flow', 0), (u'grid-column-gap', 0), (u'webkit-locale', 0), (u'lighting-color', 0), (u'marker-start', 0), (u'webkit-mask-composite', 0), (u'webkit-border-start', 0), (u'marker-mid', 0), (u'shape-image-threshold', 0), (u'd', 0), (u'buffered-rendering', 0), (u'grid-template-areas', 0), (u'webkit-text-emphasis-position', 0), (u'grid-auto-columns', 0), (u'offset-rotate', 0), (u'grid-auto-rows', 0), (u'webkit-margin-bottom-collapse', 0), (u'grid-column-start', 0), (u'webkit-mask-box-image-source', 0), (u'webkit-mask-box-image-outset', 0), (u'webkit-mask-box-image-slice', 0), (u'webkit-mask-box-image-width', 0), (u'webkit-mask-box-image-repeat', 0), (u'marker', 0), (u'grid-column-end', 0), (u'grid-row-gap', 0), (u'webkit-text-emphasis-style', 0), (u'webkit-mask-origin', 0), (u'grid-row-start', 0), (u'grid-row-end', 0), (u'offset-path', 0), (u'webkit-margin-before-collapse', 0), (u'webkit-margin-after-collapse', 0), (u'offset-distance', 0), (u'offset-rotation', 0), (u'grid-column', 0), (u'alias-webkit-shape-outside', 0), (u'grid-row', 0), (u'webkit-border-end-style', 0), (u'grid-area', 0), (u'place-content', 0), (u'alias-epub-word-break', 0), (u'webkit-mask-position-x', 0), (u'place-items', 0), (u'motion', 0), (u'webkit-min-logical-width', 0), (u'alias-webkit-shape-margin', 0), (u'font-display', 0), (u'grid-template', 0), (u'webkit-mask-position-y', 0), (u'enable-background', 0), (u'text-combine-upright', 0), (u'inline-size', 0), (u'block-size', 0), (u'webkit-border-before', 0), (u'webkit-border-after', 0), (u'min-block-size', 0), (u'max-inline-size', 0), (u'webkit-max-logical-height', 0), (u'min-inline-size', 0), (u'max-block-size', 0), (u'webkit-max-logical-width', 0), (u'webkit-min-logical-height', 0), (u'motion-offset', 0), (u'webkit-transform-origin-z', 0), (u'webkit-logical-height', 0), (u'webkit-logical-width', 0), (u'motion-path', 0), (u'grid', 0), (u'offset', 0), (u'text-justify', 0), (u'webkit-font-size-delta', 0), (u'webkit-ruby-position', 0), (u'motion-rotation', 0), (u'alias-webkit-shape-image-threshold', 0), (u'webkit-background-composite', 0), (u'webkit-border-start-style', 0), (u'scroll-behavior', 0), (u'font-size-adjust', 0), (u'webkit-border-after-style', 0), (u'webkit-border-before-style', 0), (u'webkit-border-fit', 0), (u'webkit-line-box-contain', 0), (u'glyph-orientation-vertical', 0), (u'alias-epub-text-transform', 0), (u'alias-epub-writing-mode', 0), (u'glyph-orientation-horizontal', 0), (u'backdrop-filter', 0), (u'max-zoom', 0), (u'min-zoom', 0), (u'webkit-region-break-inside', 0), (u'place-self', 0), (u'user-zoom', 0), (u'alias-epub-text-combine', 0), (u'color-profile', 0), (u'scale', 0), (u'kerning', 0), (u'translate', 0), (u'rotate', 0), (u'touch-action-delay', 0), (u'webkit-mask-repeat-x', 0), (u'webkit-mask-repeat-y', 0), (u'orientation', 0), (u'webkit-column-axis', 0), (u'mask-source-type', 0), (u'webkit-column-progression', 0), (u'snap-height', 0), (u'webkit-line-snap', 0), (u'webkit-line-grid', 0), (u'offset-anchor', 0), (u'offset-position', 0), (u'webkit-line-align', 0), (u'text-underline-style', 0), (u'alias-epub-text-emphasis-style', 0), (u'font-variation-settings', 0), (u'webkit-wrap-through', 0), (u'scroll-snap-destination', 0), (u'webkit-flow-into', 0), (u'webkit-color-correction', 0), (u'scroll-snap-points-y', 0), (u'scroll-snap-points-x', 0), (u'webkit-nbsp-mode', 0), (u'webkit-region-break-after', 0), (u'image-orientation', 0), (u'text-overline-color', 0), (u'transform-box', 0), (u'webkit-marquee-style', 0), (u'webkit-region-fragment', 0), (u'text-line-through-color', 0), (u'internal-callback', 0), (u'text-line-through-style', 0), (u'webkit-flow-from', 0), (u'alias-epub-text-orientation', 0), (u'webkit-wrap', 0), (u'webkit-overflow-scrolling', 0), (u'webkit-marquee', 0), (u'text-line-through-mode', 0), (u'alias-epub-text-emphasis', 0), (u'text-overline', 0), (u'webkit-app-region', 0), (u'webkit-blend-mode', 0), (u'text-overline-width', 0), (u'scroll-snap-type', 0), (u'shape-inside', 0), (u'scroll-blocks-on', 0), (u'webkit-marquee-increment', 0), (u'text-overline-mode', 0), (u'webkit-aspect-ratio', 0), (u'webkit-hyphens', 0), (u'text-line-through', 0), (u'webkit-background-blend-mode', 0), (u'scroll-snap-coordinate', 0), (u'webkit-svg-shadow', 0), (u'text-underline-color', 0), (u'webkit-marquee-repetition', 0), (u'webkit-region-break-before', 0), (u'webkit-hyphenate-limit-after', 0), (u'webkit-tap-highlight-color', 0), (u'webkit-filter', 0), (u'text-line-through-width', 0), (u'image-resolution', 0), (u'webkit-hyphenate-limit-before', 0), (u'text-underline-mode', 0), (u'text-overline-style', 0), (u'alias-epub-caption-side', 0), (u'webkit-cursor-visibility', 0), (u'text-underline', 0), (u'text-underline-width', 0), (u'webkit-marquee-direction', 0), (u'webkit-marquee-speed', 0), (u'shape-padding', 0), (u'webkit-hyphenate-limit-lines', 0), (u'webkit-box-decoration-break', 0), (u'webkit-dashboard-region', 0), (u'alias-epub-text-emphasis-color', 0), (u'variable', 0), (u'webkit-wrap-flow', 0)]\n",
      "0.189873417722\n"
     ]
    }
   ],
   "source": [
    "kmeans = KMeans(n_clusters=2, random_state=0).fit(np.array(ranking.values()).reshape(-1,1))\n",
    "print kmeans.cluster_centers_\n",
    "print kmeans.labels_\n",
    "temp = zip(ranking.keys(), kmeans.labels_)\n",
    "print sorted(temp, key=lambda x: sorted_properties_name[x[0]])\n",
    "print sorted_properties_name[\"border-left-color\"]"
   ]
  }
 ],
 "metadata": {
  "kernelspec": {
   "display_name": "Python 2",
   "language": "python",
   "name": "python2"
  },
  "language_info": {
   "codemirror_mode": {
    "name": "ipython",
    "version": 2
   },
   "file_extension": ".py",
   "mimetype": "text/x-python",
   "name": "python",
   "nbconvert_exporter": "python",
   "pygments_lexer": "ipython2",
   "version": "2.7.13"
  }
 },
 "nbformat": 4,
 "nbformat_minor": 1
}
